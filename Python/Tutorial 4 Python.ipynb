{
 "cells": [
  {
   "cell_type": "markdown",
   "id": "f3c3fe78",
   "metadata": {},
   "source": [
    "# Tutorial 4 Python Notebook \n",
    "\n",
    "In this tutorial there are tasks for working with lists, arrays, dictionaries, and data frames.\n",
    "\n",
    "* Lists = Task 1-3\n",
    "* Arrays = Task 4-7 \n",
    "* Dictionaries = Task 8-10\n",
    "* Data frames = Task 11-16\n",
    "\n",
    "The aim of this tutorial notebook is to give you some (guided) hands-on experience working with different data structures in Python."
   ]
  },
  {
   "cell_type": "code",
   "execution_count": 1,
   "id": "eda04920",
   "metadata": {},
   "outputs": [],
   "source": [
    "import numpy as np \n",
    "import pandas as pd"
   ]
  },
  {
   "cell_type": "markdown",
   "id": "a9c029fa",
   "metadata": {},
   "source": [
    "## Lists \n",
    "\n",
    "### Task 1\n",
    "\n",
    "Create a list containing strings, numbers, a list, and Boolean values. \n"
   ]
  },
  {
   "cell_type": "code",
   "execution_count": 2,
   "id": "665c5ffd",
   "metadata": {},
   "outputs": [
    {
     "data": {
      "text/plain": [
       "['a',\n",
       " 'b',\n",
       " 'c',\n",
       " 'd',\n",
       " 45,\n",
       " 30,\n",
       " 23,\n",
       " 34,\n",
       " ['hello', 'world', 90, 21, 67],\n",
       " True,\n",
       " False]"
      ]
     },
     "execution_count": 2,
     "metadata": {},
     "output_type": "execute_result"
    }
   ],
   "source": [
    "lst_one = ['a','b','c','d', 45,30,23,34, ['hello','world',90,21,67], True, False]\n",
    "\n",
    "lst_one"
   ]
  },
  {
   "cell_type": "markdown",
   "id": "eb82575f",
   "metadata": {},
   "source": [
    "### Task 2\n",
    "\n",
    "How would you index to the first item in the nested list in the list you created in task 1?"
   ]
  },
  {
   "cell_type": "code",
   "execution_count": 3,
   "id": "cf295744",
   "metadata": {},
   "outputs": [
    {
     "data": {
      "text/plain": [
       "'hello'"
      ]
     },
     "execution_count": 3,
     "metadata": {},
     "output_type": "execute_result"
    }
   ],
   "source": [
    "## your answer \n",
    "\n",
    "lst_one[8][0]\n"
   ]
  },
  {
   "cell_type": "markdown",
   "id": "bce17c73",
   "metadata": {},
   "source": [
    "### Task 3\n",
    "\n",
    "Convert the list below into a 1-dimensional array. "
   ]
  },
  {
   "cell_type": "code",
   "execution_count": 4,
   "id": "71d430e1",
   "metadata": {},
   "outputs": [
    {
     "data": {
      "text/plain": [
       "array([ 12.23,  13.32, 100.1 ,  36.45])"
      ]
     },
     "execution_count": 4,
     "metadata": {},
     "output_type": "execute_result"
    }
   ],
   "source": [
    "list1 = [12.23, 13.32, 100.1, 36.45]\n",
    "\n",
    "np.array(list1)"
   ]
  },
  {
   "cell_type": "markdown",
   "id": "dc35d19b",
   "metadata": {},
   "source": [
    "<details><summary style='color:darkblue'>HINT: Where do we get the array data structure? CLICK HERE TO SEE THE ANSWER. BUT REALLY TRY TO DO IT YOURSELF FIRST!</summary>\n",
    "\n",
    "Remember, arrays are **not** a built-in Python data structure. We access them through the `NumPy` package. \n",
    "  "
   ]
  },
  {
   "cell_type": "markdown",
   "id": "b6773989",
   "metadata": {},
   "source": [
    "## Array "
   ]
  },
  {
   "cell_type": "markdown",
   "id": "6d1fe922",
   "metadata": {},
   "source": [
    "## Task 4\n",
    "\n",
    "Use the keyboard variable below to spell your name by referencing the letters in the array. "
   ]
  },
  {
   "cell_type": "markdown",
   "id": "19cba837",
   "metadata": {},
   "source": [
    "<details><summary style='color:darkblue'>HINT: Example solution. CLICK HERE TO SEE THE ANSWER. BUT REALLY TRY TO DO IT YOURSELF FIRST!</summary>\n",
    "\n",
    "brittany is: \n",
    "    \n",
    "`print(keyboard[2,4], keyboard[0,3], keyboard[0,7], keyboard[0,4], keyboard[0,4], keyboard[1,0], keyboard[2,5], keyboard[0,5])`"
   ]
  },
  {
   "cell_type": "code",
   "execution_count": 5,
   "id": "6ab118b5",
   "metadata": {},
   "outputs": [],
   "source": [
    "keyboard = np.array([ ['q','w','e','r','t','y','u','i','o','p'],\n",
    "                      ['a','s','d','f','g','h','j','k','l',';'],\n",
    "                      ['z','x','c','v','b','n','m','<','>','?']\n",
    "                   ])"
   ]
  },
  {
   "cell_type": "code",
   "execution_count": 6,
   "id": "06ba8776",
   "metadata": {},
   "outputs": [
    {
     "data": {
      "text/plain": [
       "('w', 'a', 'h', 'o', 'm', 'e')"
      ]
     },
     "execution_count": 6,
     "metadata": {},
     "output_type": "execute_result"
    }
   ],
   "source": [
    "## your answer here \n",
    "\n",
    "keyboard[0][1],keyboard[1][0],keyboard[1][5],keyboard[0][-2],keyboard[2][-4],keyboard[0][2]"
   ]
  },
  {
   "cell_type": "markdown",
   "id": "f2285163",
   "metadata": {},
   "source": [
    "### Task 5 \n",
    "\n",
    "Create a 1-dimensional array with values ranging from 20 and 80."
   ]
  },
  {
   "cell_type": "code",
   "execution_count": 5,
   "id": "99b3b183",
   "metadata": {},
   "outputs": [
    {
     "data": {
      "text/plain": [
       "array([20, 21, 22, 23, 24, 25, 26, 27, 28, 29, 30, 31, 32, 33, 34, 35, 36,\n",
       "       37, 38, 39, 40, 41, 42, 43, 44, 45, 46, 47, 48, 49, 50, 51, 52, 53,\n",
       "       54, 55, 56, 57, 58, 59, 60, 61, 62, 63, 64, 65, 66, 67, 68, 69, 70,\n",
       "       71, 72, 73, 74, 75, 76, 77, 78, 79, 80])"
      ]
     },
     "execution_count": 5,
     "metadata": {},
     "output_type": "execute_result"
    }
   ],
   "source": [
    "## your answer \n",
    "list2 = np.array(range(20,81))\n",
    "\n",
    "list2"
   ]
  },
  {
   "cell_type": "markdown",
   "id": "a593cddc",
   "metadata": {},
   "source": [
    "### Task 6\n",
    "\n",
    "Reverse the array created in Task 5."
   ]
  },
  {
   "cell_type": "markdown",
   "id": "23f97d6d",
   "metadata": {},
   "source": [
    "<details><summary style='color:darkblue'>HINT: A reminder. CLICK HERE TO SEE THE ANSWER. BUT REALLY TRY TO DO IT YOURSELF FIRST!</summary>\n",
    "    \n",
    "Indexing with arrays (and lists and dataframes) can be done with the following syntax ` my_array[start_index : stop_index : step/jump]`"
   ]
  },
  {
   "cell_type": "markdown",
   "id": "2ffae002",
   "metadata": {},
   "source": [
    "<details><summary style='color:darkblue'>HINT: Another reminder. CLICK HERE TO SEE THE ANSWER. BUT REALLY TRY TO DO IT YOURSELF FIRST!</summary>\n",
    "\n",
    "Remember that reverse indexing in Python and R are very different! \n"
   ]
  },
  {
   "cell_type": "code",
   "execution_count": 8,
   "id": "770c1d2e",
   "metadata": {},
   "outputs": [
    {
     "data": {
      "text/plain": [
       "array([80, 79, 78, 77, 76, 75, 74, 73, 72, 71, 70, 69, 68, 67, 66, 65, 64,\n",
       "       63, 62, 61, 60, 59, 58, 57, 56, 55, 54, 53, 52, 51, 50, 49, 48, 47,\n",
       "       46, 45, 44, 43, 42, 41, 40, 39, 38, 37, 36, 35, 34, 33, 32, 31, 30,\n",
       "       29, 28, 27, 26, 25, 24, 23, 22, 21, 20])"
      ]
     },
     "execution_count": 8,
     "metadata": {},
     "output_type": "execute_result"
    }
   ],
   "source": [
    "## your answer \n",
    "list2[::-1]"
   ]
  },
  {
   "cell_type": "markdown",
   "id": "7d538434",
   "metadata": {},
   "source": [
    "### Task 7\n",
    "\n",
    "Create a 2D array with 1 across the border and 0 inside/middle."
   ]
  },
  {
   "cell_type": "markdown",
   "id": "128432c8",
   "metadata": {},
   "source": [
    "<details><summary style='color:darkblue'>HINT: Breaking down the problem. CLICK HERE TO SEE THE ANSWER. BUT REALLY TRY TO DO IT YOURSELF FIRST!</summary>\n",
    "\n",
    "This may sound easy enough, but is actually quite tricky as we are working in 2 dimensions! As a first step, create a 2-D array filled with ones (there is a specific function for this). Then replace the inside or middle values of the array with 0."
   ]
  },
  {
   "cell_type": "code",
   "execution_count": 6,
   "id": "94f2c676",
   "metadata": {},
   "outputs": [
    {
     "data": {
      "text/plain": [
       "array([[1., 1., 1., 1., 1.],\n",
       "       [1., 0., 0., 0., 1.],\n",
       "       [1., 0., 0., 0., 1.],\n",
       "       [1., 0., 0., 0., 1.],\n",
       "       [1., 1., 1., 1., 1.]])"
      ]
     },
     "execution_count": 6,
     "metadata": {},
     "output_type": "execute_result"
    }
   ],
   "source": [
    "## your answer \n",
    "\n",
    "x= np.ones((5,5))\n",
    "x[1:-1, 1:-1] = 0\n",
    "x"
   ]
  },
  {
   "cell_type": "markdown",
   "id": "2f76bfdb",
   "metadata": {},
   "source": [
    "## Dictionaries"
   ]
  },
  {
   "cell_type": "markdown",
   "id": "78181e7b",
   "metadata": {},
   "source": [
    "### Task 8\n",
    "\n",
    "Create a dictionary comprised of colors blue, red, green; animals dog, cat, horse; and age 33, 56, 24."
   ]
  },
  {
   "cell_type": "code",
   "execution_count": 7,
   "id": "ffc98561",
   "metadata": {},
   "outputs": [
    {
     "data": {
      "text/plain": [
       "{'Colors': ['red', 'green', 'blue'],\n",
       " 'Animals': ['dog', 'cat', 'horse'],\n",
       " 'Age': [33, 56, 24]}"
      ]
     },
     "execution_count": 7,
     "metadata": {},
     "output_type": "execute_result"
    }
   ],
   "source": [
    "## your answer \n",
    "\n",
    "Dict = {'Colors':['red','green','blue'],'Animals':['dog','cat','horse'],'Age':[33,56,24]}\n",
    "\n",
    "Dict"
   ]
  },
  {
   "cell_type": "markdown",
   "id": "b04eee15",
   "metadata": {},
   "source": [
    "### Task 9\n",
    "\n",
    "Add a new key value pair to the list created in Task 8 called flower comprised of daisy, rose, and lily. "
   ]
  },
  {
   "cell_type": "code",
   "execution_count": 8,
   "id": "bdfe5310",
   "metadata": {},
   "outputs": [
    {
     "data": {
      "text/plain": [
       "{'Colors': ['red', 'green', 'blue'],\n",
       " 'Animals': ['dog', 'cat', 'horse'],\n",
       " 'Age': [33, 56, 24],\n",
       " 'Flower': ['daisy', 'rose', 'lily']}"
      ]
     },
     "execution_count": 8,
     "metadata": {},
     "output_type": "execute_result"
    }
   ],
   "source": [
    "## your answer \n",
    "Dict['Flower'] = ['daisy','rose','lily']\n",
    "\n",
    "Dict"
   ]
  },
  {
   "cell_type": "markdown",
   "id": "80541562",
   "metadata": {},
   "source": [
    "### Task 10\n",
    "\n",
    "Convert your dictionary into a data frame. "
   ]
  },
  {
   "cell_type": "markdown",
   "id": "f0bba582",
   "metadata": {},
   "source": [
    "<details><summary style='color:darkblue'>HINT: Where do we get the data frame data structure? CLICK HERE TO SEE THE ANSWER. BUT REALLY TRY TO DO IT YOURSELF FIRST!</summary>\n",
    "\n",
    "Remember, data frames are **not** a built-in Python data structure. We access them through the `pandas` package. \n",
    "  "
   ]
  },
  {
   "cell_type": "code",
   "execution_count": 9,
   "id": "dabe35bb",
   "metadata": {},
   "outputs": [
    {
     "data": {
      "text/html": [
       "<div>\n",
       "<style scoped>\n",
       "    .dataframe tbody tr th:only-of-type {\n",
       "        vertical-align: middle;\n",
       "    }\n",
       "\n",
       "    .dataframe tbody tr th {\n",
       "        vertical-align: top;\n",
       "    }\n",
       "\n",
       "    .dataframe thead th {\n",
       "        text-align: right;\n",
       "    }\n",
       "</style>\n",
       "<table border=\"1\" class=\"dataframe\">\n",
       "  <thead>\n",
       "    <tr style=\"text-align: right;\">\n",
       "      <th></th>\n",
       "      <th>Colors</th>\n",
       "      <th>Animals</th>\n",
       "      <th>Age</th>\n",
       "      <th>Flower</th>\n",
       "    </tr>\n",
       "  </thead>\n",
       "  <tbody>\n",
       "    <tr>\n",
       "      <th>0</th>\n",
       "      <td>red</td>\n",
       "      <td>dog</td>\n",
       "      <td>33</td>\n",
       "      <td>daisy</td>\n",
       "    </tr>\n",
       "    <tr>\n",
       "      <th>1</th>\n",
       "      <td>green</td>\n",
       "      <td>cat</td>\n",
       "      <td>56</td>\n",
       "      <td>rose</td>\n",
       "    </tr>\n",
       "    <tr>\n",
       "      <th>2</th>\n",
       "      <td>blue</td>\n",
       "      <td>horse</td>\n",
       "      <td>24</td>\n",
       "      <td>lily</td>\n",
       "    </tr>\n",
       "  </tbody>\n",
       "</table>\n",
       "</div>"
      ],
      "text/plain": [
       "  Colors Animals  Age Flower\n",
       "0    red     dog   33  daisy\n",
       "1  green     cat   56   rose\n",
       "2   blue   horse   24   lily"
      ]
     },
     "execution_count": 9,
     "metadata": {},
     "output_type": "execute_result"
    }
   ],
   "source": [
    "df = pd.DataFrame(Dict)\n",
    "\n",
    "df"
   ]
  },
  {
   "cell_type": "markdown",
   "id": "11654a08",
   "metadata": {},
   "source": [
    "## Data frames \n",
    "\n",
    "For this series of tasks we will be using a publicly available dataset from [Public Health Scotland around Stroke Activity](https://www.opendata.nhs.scot/dataset/scottish-stroke-statistics/resource/47656572-e196-40c8-83e8-08b0b223b2e6). This dataset provides \"Information on hospital activity related to cerebrovascular disease (including stroke and subarachnoid haemorrhage).\" Look through the link and read the data dictionary at the bottom to familiarise yourself with the variables.  \n",
    "\n",
    "We will first read in the data. You can read in data from a URL with the `read_csv()` function but inputting the URL as a character string - how helpful! From the link above to the data set there is a URL I have copied at the top of the page. It is good practice when first reading in a data set to name it and add `_raw` or some delineation that it is the raw data. As you process the data for your analytic purposes, you can then save the data in an object without this delineation. This allows you to maintain an object with a version of the raw data that you can refer to later if needed. "
   ]
  },
  {
   "cell_type": "code",
   "execution_count": 10,
   "id": "d7662808",
   "metadata": {},
   "outputs": [],
   "source": [
    "stroke_raw = pd.read_csv(\"https://www.opendata.nhs.scot/dataset/f5dcf382-e6ca-49f6-b807-4f9cc29555bc/resource/47656572-e196-40c8-83e8-08b0b223b2e6/download/stroke_activitybyhbr.csv\")"
   ]
  },
  {
   "cell_type": "code",
   "execution_count": 11,
   "id": "067c8e10",
   "metadata": {},
   "outputs": [
    {
     "data": {
      "text/html": [
       "<div>\n",
       "<style scoped>\n",
       "    .dataframe tbody tr th:only-of-type {\n",
       "        vertical-align: middle;\n",
       "    }\n",
       "\n",
       "    .dataframe tbody tr th {\n",
       "        vertical-align: top;\n",
       "    }\n",
       "\n",
       "    .dataframe thead th {\n",
       "        text-align: right;\n",
       "    }\n",
       "</style>\n",
       "<table border=\"1\" class=\"dataframe\">\n",
       "  <thead>\n",
       "    <tr style=\"text-align: right;\">\n",
       "      <th></th>\n",
       "      <th>FinancialYear</th>\n",
       "      <th>HBR</th>\n",
       "      <th>HBRQF</th>\n",
       "      <th>AdmissionType</th>\n",
       "      <th>AdmissionTypeQF</th>\n",
       "      <th>AgeGroup</th>\n",
       "      <th>AgeGroupQF</th>\n",
       "      <th>Sex</th>\n",
       "      <th>SexQF</th>\n",
       "      <th>Diagnosis</th>\n",
       "      <th>NumberOfDischarges</th>\n",
       "      <th>NumberOfDischargesQF</th>\n",
       "      <th>CrudeRate</th>\n",
       "      <th>CrudeRateQF</th>\n",
       "      <th>EASR</th>\n",
       "    </tr>\n",
       "  </thead>\n",
       "  <tbody>\n",
       "    <tr>\n",
       "      <th>0</th>\n",
       "      <td>2013/14</td>\n",
       "      <td>S08000015</td>\n",
       "      <td>NaN</td>\n",
       "      <td>All</td>\n",
       "      <td>d</td>\n",
       "      <td>0-44 years</td>\n",
       "      <td>NaN</td>\n",
       "      <td>Males</td>\n",
       "      <td>NaN</td>\n",
       "      <td>Cerebrovascular Disease</td>\n",
       "      <td>57.0</td>\n",
       "      <td>NaN</td>\n",
       "      <td>61.547764</td>\n",
       "      <td>NaN</td>\n",
       "      <td>66.515711</td>\n",
       "    </tr>\n",
       "    <tr>\n",
       "      <th>1</th>\n",
       "      <td>2013/14</td>\n",
       "      <td>S08000015</td>\n",
       "      <td>NaN</td>\n",
       "      <td>All</td>\n",
       "      <td>d</td>\n",
       "      <td>0-44 years</td>\n",
       "      <td>NaN</td>\n",
       "      <td>Females</td>\n",
       "      <td>NaN</td>\n",
       "      <td>Cerebrovascular Disease</td>\n",
       "      <td>42.0</td>\n",
       "      <td>NaN</td>\n",
       "      <td>44.180298</td>\n",
       "      <td>NaN</td>\n",
       "      <td>43.481241</td>\n",
       "    </tr>\n",
       "    <tr>\n",
       "      <th>2</th>\n",
       "      <td>2013/14</td>\n",
       "      <td>S08000015</td>\n",
       "      <td>NaN</td>\n",
       "      <td>All</td>\n",
       "      <td>d</td>\n",
       "      <td>45-64 years</td>\n",
       "      <td>NaN</td>\n",
       "      <td>Males</td>\n",
       "      <td>NaN</td>\n",
       "      <td>Cerebrovascular Disease</td>\n",
       "      <td>231.0</td>\n",
       "      <td>NaN</td>\n",
       "      <td>445.773832</td>\n",
       "      <td>NaN</td>\n",
       "      <td>444.876027</td>\n",
       "    </tr>\n",
       "    <tr>\n",
       "      <th>3</th>\n",
       "      <td>2013/14</td>\n",
       "      <td>S08000015</td>\n",
       "      <td>NaN</td>\n",
       "      <td>All</td>\n",
       "      <td>d</td>\n",
       "      <td>45-64 years</td>\n",
       "      <td>NaN</td>\n",
       "      <td>Females</td>\n",
       "      <td>NaN</td>\n",
       "      <td>Cerebrovascular Disease</td>\n",
       "      <td>209.0</td>\n",
       "      <td>NaN</td>\n",
       "      <td>371.238765</td>\n",
       "      <td>NaN</td>\n",
       "      <td>372.420079</td>\n",
       "    </tr>\n",
       "    <tr>\n",
       "      <th>4</th>\n",
       "      <td>2013/14</td>\n",
       "      <td>S08000015</td>\n",
       "      <td>NaN</td>\n",
       "      <td>All</td>\n",
       "      <td>d</td>\n",
       "      <td>65-74 years</td>\n",
       "      <td>NaN</td>\n",
       "      <td>Males</td>\n",
       "      <td>NaN</td>\n",
       "      <td>Cerebrovascular Disease</td>\n",
       "      <td>244.0</td>\n",
       "      <td>NaN</td>\n",
       "      <td>1198.899371</td>\n",
       "      <td>NaN</td>\n",
       "      <td>1229.931638</td>\n",
       "    </tr>\n",
       "    <tr>\n",
       "      <th>...</th>\n",
       "      <td>...</td>\n",
       "      <td>...</td>\n",
       "      <td>...</td>\n",
       "      <td>...</td>\n",
       "      <td>...</td>\n",
       "      <td>...</td>\n",
       "      <td>...</td>\n",
       "      <td>...</td>\n",
       "      <td>...</td>\n",
       "      <td>...</td>\n",
       "      <td>...</td>\n",
       "      <td>...</td>\n",
       "      <td>...</td>\n",
       "      <td>...</td>\n",
       "      <td>...</td>\n",
       "    </tr>\n",
       "    <tr>\n",
       "      <th>43195</th>\n",
       "      <td>2022/23</td>\n",
       "      <td>S92000003</td>\n",
       "      <td>d</td>\n",
       "      <td>Transfer</td>\n",
       "      <td>NaN</td>\n",
       "      <td>45-64 years</td>\n",
       "      <td>NaN</td>\n",
       "      <td>All</td>\n",
       "      <td>d</td>\n",
       "      <td>TIAs and related syndromes</td>\n",
       "      <td>262.0</td>\n",
       "      <td>NaN</td>\n",
       "      <td>17.582418</td>\n",
       "      <td>NaN</td>\n",
       "      <td>16.915867</td>\n",
       "    </tr>\n",
       "    <tr>\n",
       "      <th>43196</th>\n",
       "      <td>2022/23</td>\n",
       "      <td>S92000003</td>\n",
       "      <td>d</td>\n",
       "      <td>Transfer</td>\n",
       "      <td>NaN</td>\n",
       "      <td>65-74 years</td>\n",
       "      <td>NaN</td>\n",
       "      <td>All</td>\n",
       "      <td>d</td>\n",
       "      <td>TIAs and related syndromes</td>\n",
       "      <td>300.0</td>\n",
       "      <td>NaN</td>\n",
       "      <td>50.371236</td>\n",
       "      <td>NaN</td>\n",
       "      <td>50.648669</td>\n",
       "    </tr>\n",
       "    <tr>\n",
       "      <th>43197</th>\n",
       "      <td>2022/23</td>\n",
       "      <td>S92000003</td>\n",
       "      <td>d</td>\n",
       "      <td>Transfer</td>\n",
       "      <td>NaN</td>\n",
       "      <td>75plus years</td>\n",
       "      <td>NaN</td>\n",
       "      <td>All</td>\n",
       "      <td>d</td>\n",
       "      <td>TIAs and related syndromes</td>\n",
       "      <td>726.0</td>\n",
       "      <td>NaN</td>\n",
       "      <td>151.792976</td>\n",
       "      <td>NaN</td>\n",
       "      <td>153.689663</td>\n",
       "    </tr>\n",
       "    <tr>\n",
       "      <th>43198</th>\n",
       "      <td>2022/23</td>\n",
       "      <td>S92000003</td>\n",
       "      <td>d</td>\n",
       "      <td>Transfer</td>\n",
       "      <td>NaN</td>\n",
       "      <td>under75 years</td>\n",
       "      <td>NaN</td>\n",
       "      <td>All</td>\n",
       "      <td>d</td>\n",
       "      <td>TIAs and related syndromes</td>\n",
       "      <td>572.0</td>\n",
       "      <td>NaN</td>\n",
       "      <td>11.436302</td>\n",
       "      <td>NaN</td>\n",
       "      <td>10.970167</td>\n",
       "    </tr>\n",
       "    <tr>\n",
       "      <th>43199</th>\n",
       "      <td>2022/23</td>\n",
       "      <td>S92000003</td>\n",
       "      <td>d</td>\n",
       "      <td>Transfer</td>\n",
       "      <td>NaN</td>\n",
       "      <td>All</td>\n",
       "      <td>d</td>\n",
       "      <td>All</td>\n",
       "      <td>d</td>\n",
       "      <td>TIAs and related syndromes</td>\n",
       "      <td>1298.0</td>\n",
       "      <td>NaN</td>\n",
       "      <td>23.686564</td>\n",
       "      <td>NaN</td>\n",
       "      <td>23.814921</td>\n",
       "    </tr>\n",
       "  </tbody>\n",
       "</table>\n",
       "<p>43200 rows × 15 columns</p>\n",
       "</div>"
      ],
      "text/plain": [
       "      FinancialYear        HBR HBRQF AdmissionType AdmissionTypeQF  \\\n",
       "0           2013/14  S08000015   NaN           All               d   \n",
       "1           2013/14  S08000015   NaN           All               d   \n",
       "2           2013/14  S08000015   NaN           All               d   \n",
       "3           2013/14  S08000015   NaN           All               d   \n",
       "4           2013/14  S08000015   NaN           All               d   \n",
       "...             ...        ...   ...           ...             ...   \n",
       "43195       2022/23  S92000003     d      Transfer             NaN   \n",
       "43196       2022/23  S92000003     d      Transfer             NaN   \n",
       "43197       2022/23  S92000003     d      Transfer             NaN   \n",
       "43198       2022/23  S92000003     d      Transfer             NaN   \n",
       "43199       2022/23  S92000003     d      Transfer             NaN   \n",
       "\n",
       "            AgeGroup AgeGroupQF      Sex SexQF                   Diagnosis  \\\n",
       "0         0-44 years        NaN    Males   NaN     Cerebrovascular Disease   \n",
       "1         0-44 years        NaN  Females   NaN     Cerebrovascular Disease   \n",
       "2        45-64 years        NaN    Males   NaN     Cerebrovascular Disease   \n",
       "3        45-64 years        NaN  Females   NaN     Cerebrovascular Disease   \n",
       "4        65-74 years        NaN    Males   NaN     Cerebrovascular Disease   \n",
       "...              ...        ...      ...   ...                         ...   \n",
       "43195    45-64 years        NaN      All     d  TIAs and related syndromes   \n",
       "43196    65-74 years        NaN      All     d  TIAs and related syndromes   \n",
       "43197   75plus years        NaN      All     d  TIAs and related syndromes   \n",
       "43198  under75 years        NaN      All     d  TIAs and related syndromes   \n",
       "43199            All          d      All     d  TIAs and related syndromes   \n",
       "\n",
       "       NumberOfDischarges NumberOfDischargesQF    CrudeRate CrudeRateQF  \\\n",
       "0                    57.0                  NaN    61.547764         NaN   \n",
       "1                    42.0                  NaN    44.180298         NaN   \n",
       "2                   231.0                  NaN   445.773832         NaN   \n",
       "3                   209.0                  NaN   371.238765         NaN   \n",
       "4                   244.0                  NaN  1198.899371         NaN   \n",
       "...                   ...                  ...          ...         ...   \n",
       "43195               262.0                  NaN    17.582418         NaN   \n",
       "43196               300.0                  NaN    50.371236         NaN   \n",
       "43197               726.0                  NaN   151.792976         NaN   \n",
       "43198               572.0                  NaN    11.436302         NaN   \n",
       "43199              1298.0                  NaN    23.686564         NaN   \n",
       "\n",
       "              EASR  \n",
       "0        66.515711  \n",
       "1        43.481241  \n",
       "2       444.876027  \n",
       "3       372.420079  \n",
       "4      1229.931638  \n",
       "...            ...  \n",
       "43195    16.915867  \n",
       "43196    50.648669  \n",
       "43197   153.689663  \n",
       "43198    10.970167  \n",
       "43199    23.814921  \n",
       "\n",
       "[43200 rows x 15 columns]"
      ]
     },
     "execution_count": 11,
     "metadata": {},
     "output_type": "execute_result"
    }
   ],
   "source": [
    "# it is always a good idea to do a quick visual check of data once you read it in to spot an obvious or blantant parsing issues \n",
    "stroke_raw # looks good! "
   ]
  },
  {
   "cell_type": "code",
   "execution_count": 12,
   "id": "58e98dc0",
   "metadata": {},
   "outputs": [
    {
     "data": {
      "text/plain": [
       "pandas.core.frame.DataFrame"
      ]
     },
     "execution_count": 12,
     "metadata": {},
     "output_type": "execute_result"
    }
   ],
   "source": [
    "# using pd.read_csv() will import the data for us as a pandas data frame \n",
    "type(stroke_raw)"
   ]
  },
  {
   "cell_type": "markdown",
   "id": "5dacef0f",
   "metadata": {},
   "source": [
    "### Task 11 \n",
    "\n",
    "Look through the imported data to check it looks as it should based on the data dictionary. Are all the expected variables included? What dimensions does the dataframe have? Do the dtypes of these variables look to be correct? "
   ]
  },
  {
   "cell_type": "markdown",
   "id": "a8930263",
   "metadata": {},
   "source": [
    "<details><summary style='color:darkblue'>HINT: A useful new function! CLICK HERE TO SEE</summary>\n",
    "    \n",
    "There is a useful function called `head()` which will print by default the first 5 rows of a dataframe. The counterpart is `tail()` which print the last 5 rows by default. Both functions take the argument `n = ` if you wish to specify a different number of rows other than 5. There are counterpart functions in R with the same name and functionality!\n",
    "    \n",
    "This will help in solving the task, but you will need to use some other summary/description functions as well."
   ]
  },
  {
   "cell_type": "code",
   "execution_count": 14,
   "id": "e5fe1cbc",
   "metadata": {},
   "outputs": [
    {
     "name": "stdout",
     "output_type": "stream",
     "text": [
      "<class 'pandas.core.frame.DataFrame'>\n",
      "RangeIndex: 43200 entries, 0 to 43199\n",
      "Data columns (total 15 columns):\n",
      " #   Column                Non-Null Count  Dtype  \n",
      "---  ------                --------------  -----  \n",
      " 0   FinancialYear         43200 non-null  object \n",
      " 1   HBR                   43200 non-null  object \n",
      " 2   HBRQF                 2880 non-null   object \n",
      " 3   AdmissionType         43200 non-null  object \n",
      " 4   AdmissionTypeQF       10800 non-null  object \n",
      " 5   AgeGroup              43200 non-null  object \n",
      " 6   AgeGroupQF            7200 non-null   object \n",
      " 7   Sex                   43200 non-null  object \n",
      " 8   SexQF                 14400 non-null  object \n",
      " 9   Diagnosis             43200 non-null  object \n",
      " 10  NumberOfDischarges    39503 non-null  float64\n",
      " 11  NumberOfDischargesQF  3697 non-null   object \n",
      " 12  CrudeRate             39503 non-null  float64\n",
      " 13  CrudeRateQF           3697 non-null   object \n",
      " 14  EASR                  43200 non-null  float64\n",
      "dtypes: float64(3), object(12)\n",
      "memory usage: 4.9+ MB\n"
     ]
    }
   ],
   "source": [
    "## your answer \n",
    "stroke_raw.info()"
   ]
  },
  {
   "cell_type": "markdown",
   "id": "51694e6c",
   "metadata": {},
   "source": [
    "### Task 12 \n",
    "\n",
    "We do not need all of the columns in the dataset. The only variables we need for the next tasks are `FinancialYear`, `AdmissionType`, `AgeGroup`, `Diagnosis`, and `NumberOfDischarges`. Within the `HBR` variable, \"S92000003\" is the country code for Scotland. The `Sex` variable we do not need for this task, but it too includes an aggregate level \"All\". Filter the data such that only these aggregate level are included for these 2 variables. Filter the data accordingly and save this processed dataset into an object called `stroke`."
   ]
  },
  {
   "cell_type": "markdown",
   "id": "02c30d21",
   "metadata": {},
   "source": [
    "<details><summary style='color:darkblue'>HINT 1: Think about your data structures! CLICK HERE TO SEE</summary>\n",
    "Remember to think about your input data structures - for example, perhaps you will want to use a list to list the columns we want to keep"
   ]
  },
  {
   "cell_type": "markdown",
   "id": "bddc78db",
   "metadata": {},
   "source": [
    "<details><summary style='color:darkblue'>HINT 2: Indexing operators CLICK HERE TO SEE</summary>\n",
    "\n",
    "We learned about `loc` and `iloc` this week to indexing location based on name or numeric index, respectively"
   ]
  },
  {
   "cell_type": "markdown",
   "id": "0cadf4bb",
   "metadata": {},
   "source": [
    "<details><summary style='color:darkblue'>HINT 3: Resulting data frame dimensions. CLICK HERE TO SEE</summary>\n",
    "\n",
    "the object `stroke` should contain 960 rows and 5 columns \n"
   ]
  },
  {
   "cell_type": "code",
   "execution_count": 15,
   "id": "6e7a31e2",
   "metadata": {},
   "outputs": [
    {
     "data": {
      "text/html": [
       "<div>\n",
       "<style scoped>\n",
       "    .dataframe tbody tr th:only-of-type {\n",
       "        vertical-align: middle;\n",
       "    }\n",
       "\n",
       "    .dataframe tbody tr th {\n",
       "        vertical-align: top;\n",
       "    }\n",
       "\n",
       "    .dataframe thead th {\n",
       "        text-align: right;\n",
       "    }\n",
       "</style>\n",
       "<table border=\"1\" class=\"dataframe\">\n",
       "  <thead>\n",
       "    <tr style=\"text-align: right;\">\n",
       "      <th></th>\n",
       "      <th>FinancialYear</th>\n",
       "      <th>HBR</th>\n",
       "      <th>HBRQF</th>\n",
       "      <th>AdmissionType</th>\n",
       "      <th>AdmissionTypeQF</th>\n",
       "      <th>AgeGroup</th>\n",
       "      <th>AgeGroupQF</th>\n",
       "      <th>Sex</th>\n",
       "      <th>SexQF</th>\n",
       "      <th>Diagnosis</th>\n",
       "      <th>NumberOfDischarges</th>\n",
       "      <th>NumberOfDischargesQF</th>\n",
       "      <th>CrudeRate</th>\n",
       "      <th>CrudeRateQF</th>\n",
       "      <th>EASR</th>\n",
       "    </tr>\n",
       "  </thead>\n",
       "  <tbody>\n",
       "    <tr>\n",
       "      <th>7284</th>\n",
       "      <td>2013/14</td>\n",
       "      <td>S92000003</td>\n",
       "      <td>d</td>\n",
       "      <td>All</td>\n",
       "      <td>d</td>\n",
       "      <td>0-44 years</td>\n",
       "      <td>NaN</td>\n",
       "      <td>All</td>\n",
       "      <td>d</td>\n",
       "      <td>Cerebrovascular Disease</td>\n",
       "      <td>1239.0</td>\n",
       "      <td>NaN</td>\n",
       "      <td>42.477796</td>\n",
       "      <td>NaN</td>\n",
       "      <td>43.778982</td>\n",
       "    </tr>\n",
       "    <tr>\n",
       "      <th>7285</th>\n",
       "      <td>2013/14</td>\n",
       "      <td>S92000003</td>\n",
       "      <td>d</td>\n",
       "      <td>All</td>\n",
       "      <td>d</td>\n",
       "      <td>45-64 years</td>\n",
       "      <td>NaN</td>\n",
       "      <td>All</td>\n",
       "      <td>d</td>\n",
       "      <td>Cerebrovascular Disease</td>\n",
       "      <td>6822.0</td>\n",
       "      <td>NaN</td>\n",
       "      <td>465.988699</td>\n",
       "      <td>NaN</td>\n",
       "      <td>474.211086</td>\n",
       "    </tr>\n",
       "    <tr>\n",
       "      <th>7286</th>\n",
       "      <td>2013/14</td>\n",
       "      <td>S92000003</td>\n",
       "      <td>d</td>\n",
       "      <td>All</td>\n",
       "      <td>d</td>\n",
       "      <td>65-74 years</td>\n",
       "      <td>NaN</td>\n",
       "      <td>All</td>\n",
       "      <td>d</td>\n",
       "      <td>Cerebrovascular Disease</td>\n",
       "      <td>6608.0</td>\n",
       "      <td>NaN</td>\n",
       "      <td>1265.168427</td>\n",
       "      <td>NaN</td>\n",
       "      <td>1306.967804</td>\n",
       "    </tr>\n",
       "    <tr>\n",
       "      <th>7287</th>\n",
       "      <td>2013/14</td>\n",
       "      <td>S92000003</td>\n",
       "      <td>d</td>\n",
       "      <td>All</td>\n",
       "      <td>d</td>\n",
       "      <td>75plus years</td>\n",
       "      <td>NaN</td>\n",
       "      <td>All</td>\n",
       "      <td>d</td>\n",
       "      <td>Cerebrovascular Disease</td>\n",
       "      <td>14331.0</td>\n",
       "      <td>NaN</td>\n",
       "      <td>3375.208433</td>\n",
       "      <td>NaN</td>\n",
       "      <td>3419.894446</td>\n",
       "    </tr>\n",
       "    <tr>\n",
       "      <th>7288</th>\n",
       "      <td>2013/14</td>\n",
       "      <td>S92000003</td>\n",
       "      <td>d</td>\n",
       "      <td>All</td>\n",
       "      <td>d</td>\n",
       "      <td>under75 years</td>\n",
       "      <td>NaN</td>\n",
       "      <td>All</td>\n",
       "      <td>d</td>\n",
       "      <td>Cerebrovascular Disease</td>\n",
       "      <td>14669.0</td>\n",
       "      <td>NaN</td>\n",
       "      <td>299.177827</td>\n",
       "      <td>NaN</td>\n",
       "      <td>314.877151</td>\n",
       "    </tr>\n",
       "    <tr>\n",
       "      <th>...</th>\n",
       "      <td>...</td>\n",
       "      <td>...</td>\n",
       "      <td>...</td>\n",
       "      <td>...</td>\n",
       "      <td>...</td>\n",
       "      <td>...</td>\n",
       "      <td>...</td>\n",
       "      <td>...</td>\n",
       "      <td>...</td>\n",
       "      <td>...</td>\n",
       "      <td>...</td>\n",
       "      <td>...</td>\n",
       "      <td>...</td>\n",
       "      <td>...</td>\n",
       "      <td>...</td>\n",
       "    </tr>\n",
       "    <tr>\n",
       "      <th>43195</th>\n",
       "      <td>2022/23</td>\n",
       "      <td>S92000003</td>\n",
       "      <td>d</td>\n",
       "      <td>Transfer</td>\n",
       "      <td>NaN</td>\n",
       "      <td>45-64 years</td>\n",
       "      <td>NaN</td>\n",
       "      <td>All</td>\n",
       "      <td>d</td>\n",
       "      <td>TIAs and related syndromes</td>\n",
       "      <td>262.0</td>\n",
       "      <td>NaN</td>\n",
       "      <td>17.582418</td>\n",
       "      <td>NaN</td>\n",
       "      <td>16.915867</td>\n",
       "    </tr>\n",
       "    <tr>\n",
       "      <th>43196</th>\n",
       "      <td>2022/23</td>\n",
       "      <td>S92000003</td>\n",
       "      <td>d</td>\n",
       "      <td>Transfer</td>\n",
       "      <td>NaN</td>\n",
       "      <td>65-74 years</td>\n",
       "      <td>NaN</td>\n",
       "      <td>All</td>\n",
       "      <td>d</td>\n",
       "      <td>TIAs and related syndromes</td>\n",
       "      <td>300.0</td>\n",
       "      <td>NaN</td>\n",
       "      <td>50.371236</td>\n",
       "      <td>NaN</td>\n",
       "      <td>50.648669</td>\n",
       "    </tr>\n",
       "    <tr>\n",
       "      <th>43197</th>\n",
       "      <td>2022/23</td>\n",
       "      <td>S92000003</td>\n",
       "      <td>d</td>\n",
       "      <td>Transfer</td>\n",
       "      <td>NaN</td>\n",
       "      <td>75plus years</td>\n",
       "      <td>NaN</td>\n",
       "      <td>All</td>\n",
       "      <td>d</td>\n",
       "      <td>TIAs and related syndromes</td>\n",
       "      <td>726.0</td>\n",
       "      <td>NaN</td>\n",
       "      <td>151.792976</td>\n",
       "      <td>NaN</td>\n",
       "      <td>153.689663</td>\n",
       "    </tr>\n",
       "    <tr>\n",
       "      <th>43198</th>\n",
       "      <td>2022/23</td>\n",
       "      <td>S92000003</td>\n",
       "      <td>d</td>\n",
       "      <td>Transfer</td>\n",
       "      <td>NaN</td>\n",
       "      <td>under75 years</td>\n",
       "      <td>NaN</td>\n",
       "      <td>All</td>\n",
       "      <td>d</td>\n",
       "      <td>TIAs and related syndromes</td>\n",
       "      <td>572.0</td>\n",
       "      <td>NaN</td>\n",
       "      <td>11.436302</td>\n",
       "      <td>NaN</td>\n",
       "      <td>10.970167</td>\n",
       "    </tr>\n",
       "    <tr>\n",
       "      <th>43199</th>\n",
       "      <td>2022/23</td>\n",
       "      <td>S92000003</td>\n",
       "      <td>d</td>\n",
       "      <td>Transfer</td>\n",
       "      <td>NaN</td>\n",
       "      <td>All</td>\n",
       "      <td>d</td>\n",
       "      <td>All</td>\n",
       "      <td>d</td>\n",
       "      <td>TIAs and related syndromes</td>\n",
       "      <td>1298.0</td>\n",
       "      <td>NaN</td>\n",
       "      <td>23.686564</td>\n",
       "      <td>NaN</td>\n",
       "      <td>23.814921</td>\n",
       "    </tr>\n",
       "  </tbody>\n",
       "</table>\n",
       "<p>960 rows × 15 columns</p>\n",
       "</div>"
      ],
      "text/plain": [
       "      FinancialYear        HBR HBRQF AdmissionType AdmissionTypeQF  \\\n",
       "7284        2013/14  S92000003     d           All               d   \n",
       "7285        2013/14  S92000003     d           All               d   \n",
       "7286        2013/14  S92000003     d           All               d   \n",
       "7287        2013/14  S92000003     d           All               d   \n",
       "7288        2013/14  S92000003     d           All               d   \n",
       "...             ...        ...   ...           ...             ...   \n",
       "43195       2022/23  S92000003     d      Transfer             NaN   \n",
       "43196       2022/23  S92000003     d      Transfer             NaN   \n",
       "43197       2022/23  S92000003     d      Transfer             NaN   \n",
       "43198       2022/23  S92000003     d      Transfer             NaN   \n",
       "43199       2022/23  S92000003     d      Transfer             NaN   \n",
       "\n",
       "            AgeGroup AgeGroupQF  Sex SexQF                   Diagnosis  \\\n",
       "7284      0-44 years        NaN  All     d     Cerebrovascular Disease   \n",
       "7285     45-64 years        NaN  All     d     Cerebrovascular Disease   \n",
       "7286     65-74 years        NaN  All     d     Cerebrovascular Disease   \n",
       "7287    75plus years        NaN  All     d     Cerebrovascular Disease   \n",
       "7288   under75 years        NaN  All     d     Cerebrovascular Disease   \n",
       "...              ...        ...  ...   ...                         ...   \n",
       "43195    45-64 years        NaN  All     d  TIAs and related syndromes   \n",
       "43196    65-74 years        NaN  All     d  TIAs and related syndromes   \n",
       "43197   75plus years        NaN  All     d  TIAs and related syndromes   \n",
       "43198  under75 years        NaN  All     d  TIAs and related syndromes   \n",
       "43199            All          d  All     d  TIAs and related syndromes   \n",
       "\n",
       "       NumberOfDischarges NumberOfDischargesQF    CrudeRate CrudeRateQF  \\\n",
       "7284               1239.0                  NaN    42.477796         NaN   \n",
       "7285               6822.0                  NaN   465.988699         NaN   \n",
       "7286               6608.0                  NaN  1265.168427         NaN   \n",
       "7287              14331.0                  NaN  3375.208433         NaN   \n",
       "7288              14669.0                  NaN   299.177827         NaN   \n",
       "...                   ...                  ...          ...         ...   \n",
       "43195               262.0                  NaN    17.582418         NaN   \n",
       "43196               300.0                  NaN    50.371236         NaN   \n",
       "43197               726.0                  NaN   151.792976         NaN   \n",
       "43198               572.0                  NaN    11.436302         NaN   \n",
       "43199              1298.0                  NaN    23.686564         NaN   \n",
       "\n",
       "              EASR  \n",
       "7284     43.778982  \n",
       "7285    474.211086  \n",
       "7286   1306.967804  \n",
       "7287   3419.894446  \n",
       "7288    314.877151  \n",
       "...            ...  \n",
       "43195    16.915867  \n",
       "43196    50.648669  \n",
       "43197   153.689663  \n",
       "43198    10.970167  \n",
       "43199    23.814921  \n",
       "\n",
       "[960 rows x 15 columns]"
      ]
     },
     "execution_count": 15,
     "metadata": {},
     "output_type": "execute_result"
    }
   ],
   "source": [
    "stroke_raw = stroke_raw[(stroke_raw['HBR'] == 'S92000003') & (stroke_raw['Sex'] == 'All')]\n",
    "\n",
    "stroke_raw"
   ]
  },
  {
   "cell_type": "code",
   "execution_count": 16,
   "id": "223d5090",
   "metadata": {},
   "outputs": [
    {
     "data": {
      "text/html": [
       "<div>\n",
       "<style scoped>\n",
       "    .dataframe tbody tr th:only-of-type {\n",
       "        vertical-align: middle;\n",
       "    }\n",
       "\n",
       "    .dataframe tbody tr th {\n",
       "        vertical-align: top;\n",
       "    }\n",
       "\n",
       "    .dataframe thead th {\n",
       "        text-align: right;\n",
       "    }\n",
       "</style>\n",
       "<table border=\"1\" class=\"dataframe\">\n",
       "  <thead>\n",
       "    <tr style=\"text-align: right;\">\n",
       "      <th></th>\n",
       "      <th>FinancialYear</th>\n",
       "      <th>AdmissionType</th>\n",
       "      <th>AgeGroup</th>\n",
       "      <th>Diagnosis</th>\n",
       "      <th>NumberOfDischarges</th>\n",
       "    </tr>\n",
       "  </thead>\n",
       "  <tbody>\n",
       "    <tr>\n",
       "      <th>7284</th>\n",
       "      <td>2013/14</td>\n",
       "      <td>All</td>\n",
       "      <td>0-44 years</td>\n",
       "      <td>Cerebrovascular Disease</td>\n",
       "      <td>1239.0</td>\n",
       "    </tr>\n",
       "    <tr>\n",
       "      <th>7285</th>\n",
       "      <td>2013/14</td>\n",
       "      <td>All</td>\n",
       "      <td>45-64 years</td>\n",
       "      <td>Cerebrovascular Disease</td>\n",
       "      <td>6822.0</td>\n",
       "    </tr>\n",
       "    <tr>\n",
       "      <th>7286</th>\n",
       "      <td>2013/14</td>\n",
       "      <td>All</td>\n",
       "      <td>65-74 years</td>\n",
       "      <td>Cerebrovascular Disease</td>\n",
       "      <td>6608.0</td>\n",
       "    </tr>\n",
       "    <tr>\n",
       "      <th>7287</th>\n",
       "      <td>2013/14</td>\n",
       "      <td>All</td>\n",
       "      <td>75plus years</td>\n",
       "      <td>Cerebrovascular Disease</td>\n",
       "      <td>14331.0</td>\n",
       "    </tr>\n",
       "    <tr>\n",
       "      <th>7288</th>\n",
       "      <td>2013/14</td>\n",
       "      <td>All</td>\n",
       "      <td>under75 years</td>\n",
       "      <td>Cerebrovascular Disease</td>\n",
       "      <td>14669.0</td>\n",
       "    </tr>\n",
       "    <tr>\n",
       "      <th>...</th>\n",
       "      <td>...</td>\n",
       "      <td>...</td>\n",
       "      <td>...</td>\n",
       "      <td>...</td>\n",
       "      <td>...</td>\n",
       "    </tr>\n",
       "    <tr>\n",
       "      <th>43195</th>\n",
       "      <td>2022/23</td>\n",
       "      <td>Transfer</td>\n",
       "      <td>45-64 years</td>\n",
       "      <td>TIAs and related syndromes</td>\n",
       "      <td>262.0</td>\n",
       "    </tr>\n",
       "    <tr>\n",
       "      <th>43196</th>\n",
       "      <td>2022/23</td>\n",
       "      <td>Transfer</td>\n",
       "      <td>65-74 years</td>\n",
       "      <td>TIAs and related syndromes</td>\n",
       "      <td>300.0</td>\n",
       "    </tr>\n",
       "    <tr>\n",
       "      <th>43197</th>\n",
       "      <td>2022/23</td>\n",
       "      <td>Transfer</td>\n",
       "      <td>75plus years</td>\n",
       "      <td>TIAs and related syndromes</td>\n",
       "      <td>726.0</td>\n",
       "    </tr>\n",
       "    <tr>\n",
       "      <th>43198</th>\n",
       "      <td>2022/23</td>\n",
       "      <td>Transfer</td>\n",
       "      <td>under75 years</td>\n",
       "      <td>TIAs and related syndromes</td>\n",
       "      <td>572.0</td>\n",
       "    </tr>\n",
       "    <tr>\n",
       "      <th>43199</th>\n",
       "      <td>2022/23</td>\n",
       "      <td>Transfer</td>\n",
       "      <td>All</td>\n",
       "      <td>TIAs and related syndromes</td>\n",
       "      <td>1298.0</td>\n",
       "    </tr>\n",
       "  </tbody>\n",
       "</table>\n",
       "<p>960 rows × 5 columns</p>\n",
       "</div>"
      ],
      "text/plain": [
       "      FinancialYear AdmissionType       AgeGroup                   Diagnosis  \\\n",
       "7284        2013/14           All     0-44 years     Cerebrovascular Disease   \n",
       "7285        2013/14           All    45-64 years     Cerebrovascular Disease   \n",
       "7286        2013/14           All    65-74 years     Cerebrovascular Disease   \n",
       "7287        2013/14           All   75plus years     Cerebrovascular Disease   \n",
       "7288        2013/14           All  under75 years     Cerebrovascular Disease   \n",
       "...             ...           ...            ...                         ...   \n",
       "43195       2022/23      Transfer    45-64 years  TIAs and related syndromes   \n",
       "43196       2022/23      Transfer    65-74 years  TIAs and related syndromes   \n",
       "43197       2022/23      Transfer   75plus years  TIAs and related syndromes   \n",
       "43198       2022/23      Transfer  under75 years  TIAs and related syndromes   \n",
       "43199       2022/23      Transfer            All  TIAs and related syndromes   \n",
       "\n",
       "       NumberOfDischarges  \n",
       "7284               1239.0  \n",
       "7285               6822.0  \n",
       "7286               6608.0  \n",
       "7287              14331.0  \n",
       "7288              14669.0  \n",
       "...                   ...  \n",
       "43195               262.0  \n",
       "43196               300.0  \n",
       "43197               726.0  \n",
       "43198               572.0  \n",
       "43199              1298.0  \n",
       "\n",
       "[960 rows x 5 columns]"
      ]
     },
     "execution_count": 16,
     "metadata": {},
     "output_type": "execute_result"
    }
   ],
   "source": [
    "stroke = stroke_raw[['FinancialYear','AdmissionType','AgeGroup','Diagnosis','NumberOfDischarges']]\n",
    "\n",
    "stroke"
   ]
  },
  {
   "cell_type": "markdown",
   "id": "a8715280",
   "metadata": {},
   "source": [
    "### Task 13 \n",
    "\n",
    "Check the data types of the remaining 5 variables and convert them to a better data type if needed. \n"
   ]
  },
  {
   "cell_type": "markdown",
   "id": "f034b429",
   "metadata": {},
   "source": [
    "<details><summary style='color:darkblue'>HINT: Editing the dataframe. CLICK HERE TO SEE THE ANSWER. BUT REALLY TRY TO DO IT YOURSELF FIRST!</summary>\n",
    "\n",
    "In order to actually change the data types in the original dataframe, make sure to assign it back to an object since the `astype()` functions returns a copy."
   ]
  },
  {
   "cell_type": "code",
   "execution_count": 17,
   "id": "05aedc2a",
   "metadata": {},
   "outputs": [
    {
     "data": {
      "text/plain": [
       "FinancialYear          object\n",
       "AdmissionType          object\n",
       "AgeGroup               object\n",
       "Diagnosis              object\n",
       "NumberOfDischarges    float64\n",
       "dtype: object"
      ]
     },
     "execution_count": 17,
     "metadata": {},
     "output_type": "execute_result"
    }
   ],
   "source": [
    "## your answer \n",
    "\n",
    "stroke.dtypes"
   ]
  },
  {
   "cell_type": "markdown",
   "id": "e9cae151",
   "metadata": {},
   "source": [
    "### Task 14\n",
    "\n",
    "Look at the categories within the categorical variables - is there anything unexpected?\n"
   ]
  },
  {
   "cell_type": "markdown",
   "id": "5047d5fd",
   "metadata": {},
   "source": [
    "<details><summary style='color:darkblue'>HINT: A warning about the data not to miss. CLICK HERE TO SEE THE ANSWER. BUT REALLY TRY TO DO IT YOURSELF FIRST!</summary>\n",
    "\n",
    "It looks like some of our variables include aggregate level responses! Good thing we checked our data. Aggregate data is very common in health and social care data. It is crucial to check your data to ensure you are aware of any aggregate categories. Depending on your specific use case, you may wish to use only the aggregate levels or perhaps remove the aggregate levels and only work with the finer-grained categories."
   ]
  },
  {
   "cell_type": "code",
   "execution_count": 18,
   "id": "34e45c8d",
   "metadata": {},
   "outputs": [
    {
     "data": {
      "text/plain": [
       "0"
      ]
     },
     "execution_count": 18,
     "metadata": {},
     "output_type": "execute_result"
    }
   ],
   "source": [
    "## your answer\n",
    "\n",
    "stroke['NumberOfDischarges'].isna().sum()"
   ]
  },
  {
   "cell_type": "markdown",
   "id": "14db7696",
   "metadata": {},
   "source": [
    "## Task 15 \n",
    "\n",
    "`AgeGroup` is a bit messy. It should be ordered and includes 2 aggregate categories. Remove the aggregate categories and order the remaining categories.\n"
   ]
  },
  {
   "cell_type": "markdown",
   "id": "26e59a88",
   "metadata": {},
   "source": [
    "<details><summary style='color:darkblue'>HINT: Resulting data frame dimensions. CLICK HERE TO SEE</summary>\n",
    "\n",
    "Your `stroke` data frame should contain 640 rows and 5 columns \n"
   ]
  },
  {
   "cell_type": "markdown",
   "id": "161afcaa",
   "metadata": {},
   "source": [
    "<details><summary style='color:darkblue'>HINT: A new \"not\" operator. CLICK HERE TO SEE</summary>\n",
    "\n",
    "In Python is `~` is a bitwise operator for NOT"
   ]
  },
  {
   "cell_type": "code",
   "execution_count": 19,
   "id": "2e609232",
   "metadata": {},
   "outputs": [
    {
     "data": {
      "text/plain": [
       "array(['Cerebrovascular Disease', 'Stroke', 'Subarachnoid Haemorrhage',\n",
       "       'TIAs and related syndromes'], dtype=object)"
      ]
     },
     "execution_count": 19,
     "metadata": {},
     "output_type": "execute_result"
    }
   ],
   "source": [
    "## your answer \n",
    "\n",
    "stroke['Diagnosis'].unique()"
   ]
  },
  {
   "cell_type": "markdown",
   "id": "00366da9",
   "metadata": {},
   "source": [
    "### Task 16 \n",
    "\n",
    "Create a summary table with the average number of discharges with a stroke diagnosis by age group for all admissions in the financial years 2021/22 and 2022/23."
   ]
  },
  {
   "cell_type": "markdown",
   "id": "5df16043",
   "metadata": {},
   "source": [
    "<details><summary style='color:darkblue'>HINT: Breaking down the task. CLICK HERE TO SEE</summary>\n",
    "\n",
    "Further filtering of the data is needed for this task. THEN grouping the data in order to compute our values of interest\n"
   ]
  },
  {
   "cell_type": "code",
   "execution_count": 20,
   "id": "fb027779",
   "metadata": {},
   "outputs": [
    {
     "data": {
      "text/html": [
       "<div>\n",
       "<style scoped>\n",
       "    .dataframe tbody tr th:only-of-type {\n",
       "        vertical-align: middle;\n",
       "    }\n",
       "\n",
       "    .dataframe tbody tr th {\n",
       "        vertical-align: top;\n",
       "    }\n",
       "\n",
       "    .dataframe thead th {\n",
       "        text-align: right;\n",
       "    }\n",
       "</style>\n",
       "<table border=\"1\" class=\"dataframe\">\n",
       "  <thead>\n",
       "    <tr style=\"text-align: right;\">\n",
       "      <th></th>\n",
       "      <th>FinancialYear</th>\n",
       "      <th>AdmissionType</th>\n",
       "      <th>AgeGroup</th>\n",
       "      <th>Diagnosis</th>\n",
       "      <th>NumberOfDischarges</th>\n",
       "    </tr>\n",
       "  </thead>\n",
       "  <tbody>\n",
       "    <tr>\n",
       "      <th>20964</th>\n",
       "      <td>2021/22</td>\n",
       "      <td>All</td>\n",
       "      <td>0-44 years</td>\n",
       "      <td>Stroke</td>\n",
       "      <td>807.0</td>\n",
       "    </tr>\n",
       "    <tr>\n",
       "      <th>20965</th>\n",
       "      <td>2021/22</td>\n",
       "      <td>All</td>\n",
       "      <td>45-64 years</td>\n",
       "      <td>Stroke</td>\n",
       "      <td>5608.0</td>\n",
       "    </tr>\n",
       "    <tr>\n",
       "      <th>20966</th>\n",
       "      <td>2021/22</td>\n",
       "      <td>All</td>\n",
       "      <td>65-74 years</td>\n",
       "      <td>Stroke</td>\n",
       "      <td>6009.0</td>\n",
       "    </tr>\n",
       "    <tr>\n",
       "      <th>20967</th>\n",
       "      <td>2021/22</td>\n",
       "      <td>All</td>\n",
       "      <td>75plus years</td>\n",
       "      <td>Stroke</td>\n",
       "      <td>12973.0</td>\n",
       "    </tr>\n",
       "    <tr>\n",
       "      <th>21324</th>\n",
       "      <td>2022/23</td>\n",
       "      <td>All</td>\n",
       "      <td>0-44 years</td>\n",
       "      <td>Stroke</td>\n",
       "      <td>777.0</td>\n",
       "    </tr>\n",
       "    <tr>\n",
       "      <th>21325</th>\n",
       "      <td>2022/23</td>\n",
       "      <td>All</td>\n",
       "      <td>45-64 years</td>\n",
       "      <td>Stroke</td>\n",
       "      <td>5565.0</td>\n",
       "    </tr>\n",
       "    <tr>\n",
       "      <th>21326</th>\n",
       "      <td>2022/23</td>\n",
       "      <td>All</td>\n",
       "      <td>65-74 years</td>\n",
       "      <td>Stroke</td>\n",
       "      <td>6085.0</td>\n",
       "    </tr>\n",
       "    <tr>\n",
       "      <th>21327</th>\n",
       "      <td>2022/23</td>\n",
       "      <td>All</td>\n",
       "      <td>75plus years</td>\n",
       "      <td>Stroke</td>\n",
       "      <td>13745.0</td>\n",
       "    </tr>\n",
       "  </tbody>\n",
       "</table>\n",
       "</div>"
      ],
      "text/plain": [
       "      FinancialYear AdmissionType      AgeGroup Diagnosis  NumberOfDischarges\n",
       "20964       2021/22           All    0-44 years    Stroke               807.0\n",
       "20965       2021/22           All   45-64 years    Stroke              5608.0\n",
       "20966       2021/22           All   65-74 years    Stroke              6009.0\n",
       "20967       2021/22           All  75plus years    Stroke             12973.0\n",
       "21324       2022/23           All    0-44 years    Stroke               777.0\n",
       "21325       2022/23           All   45-64 years    Stroke              5565.0\n",
       "21326       2022/23           All   65-74 years    Stroke              6085.0\n",
       "21327       2022/23           All  75plus years    Stroke             13745.0"
      ]
     },
     "execution_count": 20,
     "metadata": {},
     "output_type": "execute_result"
    }
   ],
   "source": [
    "## your answer \n",
    "\n",
    "stroke = stroke[(stroke['FinancialYear'].isin(['2021/22','2022/23'])) & (stroke['AdmissionType'] == 'All') &\n",
    "                (stroke['Diagnosis'] == 'Stroke') & \n",
    "                (~stroke['AgeGroup'].isin([\"All\", \"under75 years\"]))]\n",
    "\n",
    "stroke"
   ]
  },
  {
   "cell_type": "code",
   "execution_count": 21,
   "id": "669c4d58",
   "metadata": {},
   "outputs": [
    {
     "data": {
      "text/plain": [
       "FinancialYear  AgeGroup    \n",
       "2021/22        0-44 years        807.0\n",
       "               45-64 years      5608.0\n",
       "               65-74 years      6009.0\n",
       "               75plus years    12973.0\n",
       "2022/23        0-44 years        777.0\n",
       "               45-64 years      5565.0\n",
       "               65-74 years      6085.0\n",
       "               75plus years    13745.0\n",
       "Name: NumberOfDischarges, dtype: float64"
      ]
     },
     "execution_count": 21,
     "metadata": {},
     "output_type": "execute_result"
    }
   ],
   "source": [
    "stroke.groupby(['FinancialYear','AgeGroup'])['NumberOfDischarges'].mean()"
   ]
  },
  {
   "cell_type": "code",
   "execution_count": null,
   "id": "50ba61ee",
   "metadata": {},
   "outputs": [],
   "source": []
  }
 ],
 "metadata": {
  "kernelspec": {
   "display_name": "Python 3 (ipykernel)",
   "language": "python",
   "name": "python3"
  },
  "language_info": {
   "codemirror_mode": {
    "name": "ipython",
    "version": 3
   },
   "file_extension": ".py",
   "mimetype": "text/x-python",
   "name": "python",
   "nbconvert_exporter": "python",
   "pygments_lexer": "ipython3",
   "version": "3.11.4"
  }
 },
 "nbformat": 4,
 "nbformat_minor": 5
}
